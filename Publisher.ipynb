{
 "cells": [
  {
   "cell_type": "code",
   "execution_count": 2,
   "metadata": {},
   "outputs": [
    {
     "name": "stdout",
     "output_type": "stream",
     "text": [
      "connecting to broker\n",
      "publishing\n"
     ]
    }
   ],
   "source": [
    "import paho.mqtt.client as paho\n",
    "import time\n",
    "\n",
    "client = paho.Client(\"client-038\") #creating an MQTT client\n",
    "#client1 = paho.Client(\"client-041\")\n",
    "\n",
    "broker_address = \"ultimate-farmer.cloudmqtt.com\"\n",
    "\n",
    "#broker port\n",
    "port = 1883\n",
    "\n",
    "#connection username\n",
    "user = \"yldjvgmq\"\n",
    "#connection password\n",
    "password = \"mRMfj1DwZuUD\"\n",
    "\n",
    "#create new instance\n",
    "\n",
    "#set username and password\n",
    "client.username_pw_set(user, password=password)\n",
    "#client1.username_pw_set(user, password=password)\n",
    "\n",
    "print(\"connecting to broker\")\n",
    "\n",
    "#connect\n",
    "client.connect(broker_address,port=port)\n",
    "\n",
    "print(\"publishing\")\n",
    "\n",
    "\n",
    "def tempChange(value):\n",
    "    #publish\n",
    "    client.publish(\"temp1/RB\", value)\n",
    "    \n",
    "    #disconnecting after publishing\n",
    "    #disconnect\n",
    "    client.disconnect()\n",
    "       \n",
    "#dummy values to test    \n",
    "#tempChange('40,75,35,90,3,40,68.7')\n"
   ]
  },
  {
   "cell_type": "code",
   "execution_count": null,
   "metadata": {},
   "outputs": [],
   "source": []
  },
  {
   "cell_type": "code",
   "execution_count": null,
   "metadata": {},
   "outputs": [],
   "source": []
  },
  {
   "cell_type": "code",
   "execution_count": null,
   "metadata": {},
   "outputs": [],
   "source": []
  }
 ],
 "metadata": {
  "kernelspec": {
   "display_name": "Python 3",
   "language": "python",
   "name": "python3"
  },
  "language_info": {
   "codemirror_mode": {
    "name": "ipython",
    "version": 3
   },
   "file_extension": ".py",
   "mimetype": "text/x-python",
   "name": "python",
   "nbconvert_exporter": "python",
   "pygments_lexer": "ipython3",
   "version": "3.7.6"
  }
 },
 "nbformat": 4,
 "nbformat_minor": 4
}
